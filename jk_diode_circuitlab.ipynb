{
 "cells": [
  {
   "cell_type": "code",
   "execution_count": 1,
   "metadata": {},
   "outputs": [],
   "source": [
    "%matplotlib inline\n",
    "\n",
    "import numpy as np\n",
    "import matplotlib\n",
    "import matplotlib.pyplot as plt\n",
    "import pandas as pd\n",
    "from IPython.display import Markdown as md\n",
    "import scipy\n",
    "import scipy.optimize\n",
    "\n",
    "# %connect_info"
   ]
  },
  {
   "cell_type": "code",
   "execution_count": 2,
   "metadata": {},
   "outputs": [
    {
     "name": "stdout",
     "output_type": "stream",
     "text": [
      "Time,V(NODE2),\r\n",
      "0,5.816749542313327e-14,\r\n",
      "1.0000000000000001e-7,0.00006561862614358301,\r\n",
      "2.0000000000000002e-7,0.00013708213951236825,\r\n",
      "3.0000000000000004e-7,0.00020890470644833613,\r\n"
     ]
    }
   ],
   "source": [
    "!head -5 circuitLab_simulation_20200719_181405z.csv"
   ]
  },
  {
   "cell_type": "code",
   "execution_count": 3,
   "metadata": {},
   "outputs": [
    {
     "data": {
      "text/html": [
       "<div>\n",
       "<style scoped>\n",
       "    .dataframe tbody tr th:only-of-type {\n",
       "        vertical-align: middle;\n",
       "    }\n",
       "\n",
       "    .dataframe tbody tr th {\n",
       "        vertical-align: top;\n",
       "    }\n",
       "\n",
       "    .dataframe thead th {\n",
       "        text-align: right;\n",
       "    }\n",
       "</style>\n",
       "<table border=\"1\" class=\"dataframe\">\n",
       "  <thead>\n",
       "    <tr style=\"text-align: right;\">\n",
       "      <th></th>\n",
       "      <th>Time</th>\n",
       "      <th>V(NODE2)</th>\n",
       "    </tr>\n",
       "  </thead>\n",
       "  <tbody>\n",
       "    <tr>\n",
       "      <th>0</th>\n",
       "      <td>0.000000e+00</td>\n",
       "      <td>5.816750e-14</td>\n",
       "    </tr>\n",
       "    <tr>\n",
       "      <th>1</th>\n",
       "      <td>1.000000e-07</td>\n",
       "      <td>6.561863e-05</td>\n",
       "    </tr>\n",
       "    <tr>\n",
       "      <th>2</th>\n",
       "      <td>2.000000e-07</td>\n",
       "      <td>1.370821e-04</td>\n",
       "    </tr>\n",
       "    <tr>\n",
       "      <th>3</th>\n",
       "      <td>3.000000e-07</td>\n",
       "      <td>2.089047e-04</td>\n",
       "    </tr>\n",
       "    <tr>\n",
       "      <th>4</th>\n",
       "      <td>4.000000e-07</td>\n",
       "      <td>2.805658e-04</td>\n",
       "    </tr>\n",
       "    <tr>\n",
       "      <th>5</th>\n",
       "      <td>5.000000e-07</td>\n",
       "      <td>3.520141e-04</td>\n",
       "    </tr>\n",
       "    <tr>\n",
       "      <th>6</th>\n",
       "      <td>6.000000e-07</td>\n",
       "      <td>4.232426e-04</td>\n",
       "    </tr>\n",
       "    <tr>\n",
       "      <th>7</th>\n",
       "      <td>7.000000e-07</td>\n",
       "      <td>4.942485e-04</td>\n",
       "    </tr>\n",
       "    <tr>\n",
       "      <th>8</th>\n",
       "      <td>8.000000e-07</td>\n",
       "      <td>5.650297e-04</td>\n",
       "    </tr>\n",
       "    <tr>\n",
       "      <th>9</th>\n",
       "      <td>9.000000e-07</td>\n",
       "      <td>6.355838e-04</td>\n",
       "    </tr>\n",
       "    <tr>\n",
       "      <th>10</th>\n",
       "      <td>1.000000e-06</td>\n",
       "      <td>7.059085e-04</td>\n",
       "    </tr>\n",
       "    <tr>\n",
       "      <th>11</th>\n",
       "      <td>1.100000e-06</td>\n",
       "      <td>7.760016e-04</td>\n",
       "    </tr>\n",
       "    <tr>\n",
       "      <th>12</th>\n",
       "      <td>1.200000e-06</td>\n",
       "      <td>8.458608e-04</td>\n",
       "    </tr>\n",
       "    <tr>\n",
       "      <th>13</th>\n",
       "      <td>1.300000e-06</td>\n",
       "      <td>9.154841e-04</td>\n",
       "    </tr>\n",
       "    <tr>\n",
       "      <th>14</th>\n",
       "      <td>1.400000e-06</td>\n",
       "      <td>9.848690e-04</td>\n",
       "    </tr>\n",
       "    <tr>\n",
       "      <th>15</th>\n",
       "      <td>1.500000e-06</td>\n",
       "      <td>1.054014e-03</td>\n",
       "    </tr>\n",
       "    <tr>\n",
       "      <th>16</th>\n",
       "      <td>1.600000e-06</td>\n",
       "      <td>1.122916e-03</td>\n",
       "    </tr>\n",
       "    <tr>\n",
       "      <th>17</th>\n",
       "      <td>1.700000e-06</td>\n",
       "      <td>1.191573e-03</td>\n",
       "    </tr>\n",
       "    <tr>\n",
       "      <th>18</th>\n",
       "      <td>1.800000e-06</td>\n",
       "      <td>1.259983e-03</td>\n",
       "    </tr>\n",
       "    <tr>\n",
       "      <th>19</th>\n",
       "      <td>1.900000e-06</td>\n",
       "      <td>1.328145e-03</td>\n",
       "    </tr>\n",
       "    <tr>\n",
       "      <th>20</th>\n",
       "      <td>2.000000e-06</td>\n",
       "      <td>1.396055e-03</td>\n",
       "    </tr>\n",
       "    <tr>\n",
       "      <th>21</th>\n",
       "      <td>2.100000e-06</td>\n",
       "      <td>1.463712e-03</td>\n",
       "    </tr>\n",
       "    <tr>\n",
       "      <th>22</th>\n",
       "      <td>2.200000e-06</td>\n",
       "      <td>1.531113e-03</td>\n",
       "    </tr>\n",
       "    <tr>\n",
       "      <th>23</th>\n",
       "      <td>2.300000e-06</td>\n",
       "      <td>1.598258e-03</td>\n",
       "    </tr>\n",
       "    <tr>\n",
       "      <th>24</th>\n",
       "      <td>2.400000e-06</td>\n",
       "      <td>1.665143e-03</td>\n",
       "    </tr>\n",
       "    <tr>\n",
       "      <th>25</th>\n",
       "      <td>2.500000e-06</td>\n",
       "      <td>1.731766e-03</td>\n",
       "    </tr>\n",
       "    <tr>\n",
       "      <th>26</th>\n",
       "      <td>2.600000e-06</td>\n",
       "      <td>1.798127e-03</td>\n",
       "    </tr>\n",
       "    <tr>\n",
       "      <th>27</th>\n",
       "      <td>2.700000e-06</td>\n",
       "      <td>1.864221e-03</td>\n",
       "    </tr>\n",
       "    <tr>\n",
       "      <th>28</th>\n",
       "      <td>2.800000e-06</td>\n",
       "      <td>1.930048e-03</td>\n",
       "    </tr>\n",
       "    <tr>\n",
       "      <th>29</th>\n",
       "      <td>2.900000e-06</td>\n",
       "      <td>1.995606e-03</td>\n",
       "    </tr>\n",
       "    <tr>\n",
       "      <th>...</th>\n",
       "      <td>...</td>\n",
       "      <td>...</td>\n",
       "    </tr>\n",
       "    <tr>\n",
       "      <th>19970</th>\n",
       "      <td>1.997000e-03</td>\n",
       "      <td>1.909433e-03</td>\n",
       "    </tr>\n",
       "    <tr>\n",
       "      <th>19971</th>\n",
       "      <td>1.997100e-03</td>\n",
       "      <td>1.979574e-03</td>\n",
       "    </tr>\n",
       "    <tr>\n",
       "      <th>19972</th>\n",
       "      <td>1.997200e-03</td>\n",
       "      <td>2.049594e-03</td>\n",
       "    </tr>\n",
       "    <tr>\n",
       "      <th>19973</th>\n",
       "      <td>1.997300e-03</td>\n",
       "      <td>2.119489e-03</td>\n",
       "    </tr>\n",
       "    <tr>\n",
       "      <th>19974</th>\n",
       "      <td>1.997400e-03</td>\n",
       "      <td>2.189257e-03</td>\n",
       "    </tr>\n",
       "    <tr>\n",
       "      <th>19975</th>\n",
       "      <td>1.997500e-03</td>\n",
       "      <td>2.258895e-03</td>\n",
       "    </tr>\n",
       "    <tr>\n",
       "      <th>19976</th>\n",
       "      <td>1.997600e-03</td>\n",
       "      <td>2.328401e-03</td>\n",
       "    </tr>\n",
       "    <tr>\n",
       "      <th>19977</th>\n",
       "      <td>1.997700e-03</td>\n",
       "      <td>2.397771e-03</td>\n",
       "    </tr>\n",
       "    <tr>\n",
       "      <th>19978</th>\n",
       "      <td>1.997800e-03</td>\n",
       "      <td>2.467003e-03</td>\n",
       "    </tr>\n",
       "    <tr>\n",
       "      <th>19979</th>\n",
       "      <td>1.997900e-03</td>\n",
       "      <td>2.536094e-03</td>\n",
       "    </tr>\n",
       "    <tr>\n",
       "      <th>19980</th>\n",
       "      <td>1.998000e-03</td>\n",
       "      <td>2.605042e-03</td>\n",
       "    </tr>\n",
       "    <tr>\n",
       "      <th>19981</th>\n",
       "      <td>1.998100e-03</td>\n",
       "      <td>2.673844e-03</td>\n",
       "    </tr>\n",
       "    <tr>\n",
       "      <th>19982</th>\n",
       "      <td>1.998200e-03</td>\n",
       "      <td>2.742498e-03</td>\n",
       "    </tr>\n",
       "    <tr>\n",
       "      <th>19983</th>\n",
       "      <td>1.998300e-03</td>\n",
       "      <td>2.811001e-03</td>\n",
       "    </tr>\n",
       "    <tr>\n",
       "      <th>19984</th>\n",
       "      <td>1.998400e-03</td>\n",
       "      <td>2.879350e-03</td>\n",
       "    </tr>\n",
       "    <tr>\n",
       "      <th>19985</th>\n",
       "      <td>1.998500e-03</td>\n",
       "      <td>2.947543e-03</td>\n",
       "    </tr>\n",
       "    <tr>\n",
       "      <th>19986</th>\n",
       "      <td>1.998600e-03</td>\n",
       "      <td>3.015577e-03</td>\n",
       "    </tr>\n",
       "    <tr>\n",
       "      <th>19987</th>\n",
       "      <td>1.998700e-03</td>\n",
       "      <td>3.083449e-03</td>\n",
       "    </tr>\n",
       "    <tr>\n",
       "      <th>19988</th>\n",
       "      <td>1.998800e-03</td>\n",
       "      <td>3.151158e-03</td>\n",
       "    </tr>\n",
       "    <tr>\n",
       "      <th>19989</th>\n",
       "      <td>1.998900e-03</td>\n",
       "      <td>3.218700e-03</td>\n",
       "    </tr>\n",
       "    <tr>\n",
       "      <th>19990</th>\n",
       "      <td>1.999000e-03</td>\n",
       "      <td>3.286074e-03</td>\n",
       "    </tr>\n",
       "    <tr>\n",
       "      <th>19991</th>\n",
       "      <td>1.999100e-03</td>\n",
       "      <td>3.353276e-03</td>\n",
       "    </tr>\n",
       "    <tr>\n",
       "      <th>19992</th>\n",
       "      <td>1.999200e-03</td>\n",
       "      <td>3.420304e-03</td>\n",
       "    </tr>\n",
       "    <tr>\n",
       "      <th>19993</th>\n",
       "      <td>1.999300e-03</td>\n",
       "      <td>3.487156e-03</td>\n",
       "    </tr>\n",
       "    <tr>\n",
       "      <th>19994</th>\n",
       "      <td>1.999400e-03</td>\n",
       "      <td>3.553829e-03</td>\n",
       "    </tr>\n",
       "    <tr>\n",
       "      <th>19995</th>\n",
       "      <td>1.999500e-03</td>\n",
       "      <td>3.620321e-03</td>\n",
       "    </tr>\n",
       "    <tr>\n",
       "      <th>19996</th>\n",
       "      <td>1.999600e-03</td>\n",
       "      <td>3.686629e-03</td>\n",
       "    </tr>\n",
       "    <tr>\n",
       "      <th>19997</th>\n",
       "      <td>1.999700e-03</td>\n",
       "      <td>3.752751e-03</td>\n",
       "    </tr>\n",
       "    <tr>\n",
       "      <th>19998</th>\n",
       "      <td>1.999800e-03</td>\n",
       "      <td>3.818685e-03</td>\n",
       "    </tr>\n",
       "    <tr>\n",
       "      <th>19999</th>\n",
       "      <td>1.999900e-03</td>\n",
       "      <td>3.884427e-03</td>\n",
       "    </tr>\n",
       "  </tbody>\n",
       "</table>\n",
       "<p>20000 rows × 2 columns</p>\n",
       "</div>"
      ],
      "text/plain": [
       "               Time      V(NODE2)\n",
       "0      0.000000e+00  5.816750e-14\n",
       "1      1.000000e-07  6.561863e-05\n",
       "2      2.000000e-07  1.370821e-04\n",
       "3      3.000000e-07  2.089047e-04\n",
       "4      4.000000e-07  2.805658e-04\n",
       "5      5.000000e-07  3.520141e-04\n",
       "6      6.000000e-07  4.232426e-04\n",
       "7      7.000000e-07  4.942485e-04\n",
       "8      8.000000e-07  5.650297e-04\n",
       "9      9.000000e-07  6.355838e-04\n",
       "10     1.000000e-06  7.059085e-04\n",
       "11     1.100000e-06  7.760016e-04\n",
       "12     1.200000e-06  8.458608e-04\n",
       "13     1.300000e-06  9.154841e-04\n",
       "14     1.400000e-06  9.848690e-04\n",
       "15     1.500000e-06  1.054014e-03\n",
       "16     1.600000e-06  1.122916e-03\n",
       "17     1.700000e-06  1.191573e-03\n",
       "18     1.800000e-06  1.259983e-03\n",
       "19     1.900000e-06  1.328145e-03\n",
       "20     2.000000e-06  1.396055e-03\n",
       "21     2.100000e-06  1.463712e-03\n",
       "22     2.200000e-06  1.531113e-03\n",
       "23     2.300000e-06  1.598258e-03\n",
       "24     2.400000e-06  1.665143e-03\n",
       "25     2.500000e-06  1.731766e-03\n",
       "26     2.600000e-06  1.798127e-03\n",
       "27     2.700000e-06  1.864221e-03\n",
       "28     2.800000e-06  1.930048e-03\n",
       "29     2.900000e-06  1.995606e-03\n",
       "...             ...           ...\n",
       "19970  1.997000e-03  1.909433e-03\n",
       "19971  1.997100e-03  1.979574e-03\n",
       "19972  1.997200e-03  2.049594e-03\n",
       "19973  1.997300e-03  2.119489e-03\n",
       "19974  1.997400e-03  2.189257e-03\n",
       "19975  1.997500e-03  2.258895e-03\n",
       "19976  1.997600e-03  2.328401e-03\n",
       "19977  1.997700e-03  2.397771e-03\n",
       "19978  1.997800e-03  2.467003e-03\n",
       "19979  1.997900e-03  2.536094e-03\n",
       "19980  1.998000e-03  2.605042e-03\n",
       "19981  1.998100e-03  2.673844e-03\n",
       "19982  1.998200e-03  2.742498e-03\n",
       "19983  1.998300e-03  2.811001e-03\n",
       "19984  1.998400e-03  2.879350e-03\n",
       "19985  1.998500e-03  2.947543e-03\n",
       "19986  1.998600e-03  3.015577e-03\n",
       "19987  1.998700e-03  3.083449e-03\n",
       "19988  1.998800e-03  3.151158e-03\n",
       "19989  1.998900e-03  3.218700e-03\n",
       "19990  1.999000e-03  3.286074e-03\n",
       "19991  1.999100e-03  3.353276e-03\n",
       "19992  1.999200e-03  3.420304e-03\n",
       "19993  1.999300e-03  3.487156e-03\n",
       "19994  1.999400e-03  3.553829e-03\n",
       "19995  1.999500e-03  3.620321e-03\n",
       "19996  1.999600e-03  3.686629e-03\n",
       "19997  1.999700e-03  3.752751e-03\n",
       "19998  1.999800e-03  3.818685e-03\n",
       "19999  1.999900e-03  3.884427e-03\n",
       "\n",
       "[20000 rows x 2 columns]"
      ]
     },
     "execution_count": 3,
     "metadata": {},
     "output_type": "execute_result"
    }
   ],
   "source": [
    "df = pd.read_csv(\"circuitLab_simulation_20200719_181405z.csv\",usecols=[0,1])\n",
    "df"
   ]
  },
  {
   "cell_type": "code",
   "execution_count": 4,
   "metadata": {},
   "outputs": [
    {
     "data": {
      "text/plain": [
       "(9999,)"
      ]
     },
     "execution_count": 4,
     "metadata": {},
     "output_type": "execute_result"
    },
    {
     "data": {
      "image/png": "[encoded data removed]",
      "text/plain": [
       "<Figure size 432x288 with 1 Axes>"
      ]
     },
     "metadata": {
      "needs_background": "light"
     },
     "output_type": "display_data"
    }
   ],
   "source": [
    "cut = \"Time>=1.0e-3\"\n",
    "t = df.query(cut).get(\"Time\")\n",
    "v = df.query(cut).get(\"V(NODE2)\")\n",
    "t *= 1.0e3  # measure time in milliseconds\n",
    "v *= 1.0e3  # measure voltage in millivolts\n",
    "plt.plot(t,v)\n",
    "t.shape"
   ]
  },
  {
   "cell_type": "code",
   "execution_count": 5,
   "metadata": {},
   "outputs": [
    {
     "name": "stdout",
     "output_type": "stream",
     "text": [
      "    fjac: array([[-1.]])\n",
      "     fun: array([-6.5499689e-14])\n",
      " message: 'The solution converged.'\n",
      "    nfev: 7\n",
      "     qtf: array([6.5499689e-14])\n",
      "       r: array([-723.6212808])\n",
      "  status: 1\n",
      " success: True\n",
      "       x: array([1.09432769])\n",
      "    fjac: array([[-1.]])\n",
      "     fun: array([6.36470043e-14])\n",
      " message: 'The solution converged.'\n",
      "    nfev: 7\n",
      "     qtf: array([-6.36470043e-14])\n",
      "       r: array([-723.62264046])\n",
      "  status: 1\n",
      " success: True\n",
      "       x: array([1.89432791])\n",
      "t0=1.094ms, t1=1.894ms\n"
     ]
    }
   ],
   "source": [
    "func = lambda tvalue: np.interp(tvalue, t, v)\n",
    "result = scipy.optimize.root(func, x0=1.1)\n",
    "print(result)\n",
    "t0 = result.x[0]\n",
    "result = scipy.optimize.root(func, x0=1.9)\n",
    "print(result)\n",
    "t1 = result.x[0]\n",
    "print(\"t0={:.3f}ms, t1={:.3f}ms\".format(t0,t1))"
   ]
  },
  {
   "cell_type": "code",
   "execution_count": 6,
   "metadata": {},
   "outputs": [
    {
     "name": "stdout",
     "output_type": "stream",
     "text": [
      "cut = Time>0.0010943276859163777 and Time<0.001894327910710729\n"
     ]
    },
    {
     "data": {
      "text/plain": [
       "(8000,)"
      ]
     },
     "execution_count": 6,
     "metadata": {},
     "output_type": "execute_result"
    },
    {
     "data": {
      "image/png": "[encoded data removed]",
      "text/plain": [
       "<Figure size 432x288 with 1 Axes>"
      ]
     },
     "metadata": {
      "needs_background": "light"
     },
     "output_type": "display_data"
    }
   ],
   "source": [
    "cut = \"Time>{} and Time<{}\".format(t0*1.0e-3, t1*1.0e-3)\n",
    "print(\"cut =\", cut)\n",
    "t = df.query(cut).get(\"Time\")\n",
    "v = df.query(cut).get(\"V(NODE2)\")\n",
    "t *= 1.0e3  # measure time in milliseconds\n",
    "v *= 1.0e3  # measure voltage in millivolts\n",
    "plt.plot(t,v)\n",
    "t.shape"
   ]
  },
  {
   "cell_type": "code",
   "execution_count": 7,
   "metadata": {},
   "outputs": [
    {
     "data": {
      "text/plain": [
       "[<matplotlib.lines.Line2D at 0x7feb772b8b00>,\n",
       " <matplotlib.lines.Line2D at 0x7feb7b501048>]"
      ]
     },
     "execution_count": 7,
     "metadata": {},
     "output_type": "execute_result"
    },
    {
     "data": {
      "image/png": "[encoded data removed]",
      "text/plain": [
       "<Figure size 432x288 with 1 Axes>"
      ]
     },
     "metadata": {
      "needs_background": "light"
     },
     "output_type": "display_data"
    }
   ],
   "source": [
    "plt.plot(t[v>0], v[v>0], 'g-', t[v<0], v[v<0], 'r-')"
   ]
  },
  {
   "cell_type": "code",
   "execution_count": 8,
   "metadata": {},
   "outputs": [
    {
     "data": {
      "text/plain": [
       "28734.122937445973"
      ]
     },
     "execution_count": 8,
     "metadata": {},
     "output_type": "execute_result"
    }
   ],
   "source": [
    "np.sum(v[v>0])"
   ]
  },
  {
   "cell_type": "code",
   "execution_count": 9,
   "metadata": {},
   "outputs": [
    {
     "data": {
      "text/plain": [
       "-28733.946201565665"
      ]
     },
     "execution_count": 9,
     "metadata": {},
     "output_type": "execute_result"
    }
   ],
   "source": [
    "np.sum(v[v<0])"
   ]
  },
  {
   "cell_type": "code",
   "execution_count": 10,
   "metadata": {},
   "outputs": [
    {
     "data": {
      "text/plain": [
       "2.209198503598418e-05"
      ]
     },
     "execution_count": 10,
     "metadata": {},
     "output_type": "execute_result"
    }
   ],
   "source": [
    "np.mean(v)"
   ]
  },
  {
   "cell_type": "code",
   "execution_count": 11,
   "metadata": {},
   "outputs": [
    {
     "data": {
      "text/plain": [
       "0.34630152520388724"
      ]
     },
     "execution_count": 11,
     "metadata": {},
     "output_type": "execute_result"
    }
   ],
   "source": [
    "np.median(v)"
   ]
  },
  {
   "cell_type": "code",
   "execution_count": 12,
   "metadata": {},
   "outputs": [
    {
     "data": {
      "text/plain": [
       "10.943648641022069"
      ]
     },
     "execution_count": 12,
     "metadata": {},
     "output_type": "execute_result"
    }
   ],
   "source": [
    "np.max(v)"
   ]
  },
  {
   "cell_type": "code",
   "execution_count": 13,
   "metadata": {},
   "outputs": [
    {
     "data": {
      "text/plain": [
       "-11.63602871998478"
      ]
     },
     "execution_count": 13,
     "metadata": {},
     "output_type": "execute_result"
    }
   ],
   "source": [
    "np.min(v)"
   ]
  },
  {
   "cell_type": "markdown",
   "metadata": {},
   "source": [
    "See circuit at CircuitLab [link](https://www.circuitlab.com/circuit/r47ydnada9qs/jk_diode_dynamic_resistance_ac_coupled/).  I reduced $R_3\\times C_2$ to be 0.1 ms, and then I ran the simulation from 1ms to 2ms.  It seems that CircuitLab gives you the data starting from $t=0$ even if you ask it to simulate starting at a later time.  While doing so seems like overkill, I used a Pandas dataframe to import the CSV data and to select the desired time window.  First I coarsely selected $t > 1\\,{\\rm ms}$; then I used scipy.optimize.root to find a pair of zero-crossings that contained an integer number of waveform periods.  I guess this was not really needed, in retrospect, as I knew the waveform period was exactly 0.1 ms.  Anyway, it is fun to see that the sum of all of the positive samples is basically the same as the sum of all of the negative samples, i.e. the mean of the waveform is zero, even though its negative peak is larger in magnitude than its positive peak.\n",
    "\n",
    "![](https://www.circuitlab.com/circuit/r47ydnada9qs/screenshot/540x405/)"
   ]
  },
  {
   "cell_type": "code",
   "execution_count": null,
   "metadata": {},
   "outputs": [],
   "source": []
  }
 ],
 "metadata": {
  "kernelspec": {
   "display_name": "Python 3",
   "language": "python",
   "name": "python3"
  },
  "language_info": {
   "codemirror_mode": {
    "name": "ipython",
    "version": 3
   },
   "file_extension": ".py",
   "mimetype": "text/x-python",
   "name": "python",
   "nbconvert_exporter": "python",
   "pygments_lexer": "ipython3",
   "version": "3.7.1"
  }
 },
 "nbformat": 4,
 "nbformat_minor": 2
}
